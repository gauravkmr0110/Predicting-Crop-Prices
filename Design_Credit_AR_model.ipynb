{
  "nbformat": 4,
  "nbformat_minor": 0,
  "metadata": {
    "colab": {
      "name": "Design_Credit_AR_model.ipynb",
      "provenance": [],
      "collapsed_sections": []
    },
    "kernelspec": {
      "name": "python3",
      "display_name": "Python 3"
    },
    "language_info": {
      "name": "python"
    }
  },
  "cells": [
    {
      "cell_type": "code",
      "execution_count": null,
      "metadata": {
        "id": "y83RYGswC8o3"
      },
      "outputs": [],
      "source": [
        "import numpy as np\n",
        "import pandas as pd\n",
        "import seaborn as sns\n",
        "import matplotlib.pyplot as plt\n",
        "%matplotlib inline"
      ]
    },
    {
      "cell_type": "code",
      "source": [
        "df = pd.read_csv('/content/Chandigarh.csv')"
      ],
      "metadata": {
        "id": "VLjHit4JDV_B"
      },
      "execution_count": null,
      "outputs": []
    },
    {
      "cell_type": "code",
      "source": [
        "df"
      ],
      "metadata": {
        "colab": {
          "base_uri": "https://localhost:8080/",
          "height": 423
        },
        "id": "huYKzibNDoQv",
        "outputId": "85bfc547-75f4-4033-cf4f-2200918f2baa"
      },
      "execution_count": null,
      "outputs": [
        {
          "output_type": "execute_result",
          "data": {
            "text/plain": [
              "           Date  Retail Price\\n(RS/Qtl)\n",
              "0    02-01-2021                    4000\n",
              "1    04-01-2021                    5000\n",
              "2    05-01-2021                    4000\n",
              "3    06-01-2021                    4000\n",
              "4    07-01-2021                    4000\n",
              "..          ...                     ...\n",
              "133  23-06-2021                    2500\n",
              "134  24-06-2021                    2500\n",
              "135  25-06-2021                    2000\n",
              "136  26-06-2021                    3000\n",
              "137  29-06-2021                    3000\n",
              "\n",
              "[138 rows x 2 columns]"
            ],
            "text/html": [
              "\n",
              "  <div id=\"df-f23fded7-1f05-4e5a-99e4-7422596bef2d\">\n",
              "    <div class=\"colab-df-container\">\n",
              "      <div>\n",
              "<style scoped>\n",
              "    .dataframe tbody tr th:only-of-type {\n",
              "        vertical-align: middle;\n",
              "    }\n",
              "\n",
              "    .dataframe tbody tr th {\n",
              "        vertical-align: top;\n",
              "    }\n",
              "\n",
              "    .dataframe thead th {\n",
              "        text-align: right;\n",
              "    }\n",
              "</style>\n",
              "<table border=\"1\" class=\"dataframe\">\n",
              "  <thead>\n",
              "    <tr style=\"text-align: right;\">\n",
              "      <th></th>\n",
              "      <th>Date</th>\n",
              "      <th>Retail Price\\n(RS/Qtl)</th>\n",
              "    </tr>\n",
              "  </thead>\n",
              "  <tbody>\n",
              "    <tr>\n",
              "      <th>0</th>\n",
              "      <td>02-01-2021</td>\n",
              "      <td>4000</td>\n",
              "    </tr>\n",
              "    <tr>\n",
              "      <th>1</th>\n",
              "      <td>04-01-2021</td>\n",
              "      <td>5000</td>\n",
              "    </tr>\n",
              "    <tr>\n",
              "      <th>2</th>\n",
              "      <td>05-01-2021</td>\n",
              "      <td>4000</td>\n",
              "    </tr>\n",
              "    <tr>\n",
              "      <th>3</th>\n",
              "      <td>06-01-2021</td>\n",
              "      <td>4000</td>\n",
              "    </tr>\n",
              "    <tr>\n",
              "      <th>4</th>\n",
              "      <td>07-01-2021</td>\n",
              "      <td>4000</td>\n",
              "    </tr>\n",
              "    <tr>\n",
              "      <th>...</th>\n",
              "      <td>...</td>\n",
              "      <td>...</td>\n",
              "    </tr>\n",
              "    <tr>\n",
              "      <th>133</th>\n",
              "      <td>23-06-2021</td>\n",
              "      <td>2500</td>\n",
              "    </tr>\n",
              "    <tr>\n",
              "      <th>134</th>\n",
              "      <td>24-06-2021</td>\n",
              "      <td>2500</td>\n",
              "    </tr>\n",
              "    <tr>\n",
              "      <th>135</th>\n",
              "      <td>25-06-2021</td>\n",
              "      <td>2000</td>\n",
              "    </tr>\n",
              "    <tr>\n",
              "      <th>136</th>\n",
              "      <td>26-06-2021</td>\n",
              "      <td>3000</td>\n",
              "    </tr>\n",
              "    <tr>\n",
              "      <th>137</th>\n",
              "      <td>29-06-2021</td>\n",
              "      <td>3000</td>\n",
              "    </tr>\n",
              "  </tbody>\n",
              "</table>\n",
              "<p>138 rows × 2 columns</p>\n",
              "</div>\n",
              "      <button class=\"colab-df-convert\" onclick=\"convertToInteractive('df-f23fded7-1f05-4e5a-99e4-7422596bef2d')\"\n",
              "              title=\"Convert this dataframe to an interactive table.\"\n",
              "              style=\"display:none;\">\n",
              "        \n",
              "  <svg xmlns=\"http://www.w3.org/2000/svg\" height=\"24px\"viewBox=\"0 0 24 24\"\n",
              "       width=\"24px\">\n",
              "    <path d=\"M0 0h24v24H0V0z\" fill=\"none\"/>\n",
              "    <path d=\"M18.56 5.44l.94 2.06.94-2.06 2.06-.94-2.06-.94-.94-2.06-.94 2.06-2.06.94zm-11 1L8.5 8.5l.94-2.06 2.06-.94-2.06-.94L8.5 2.5l-.94 2.06-2.06.94zm10 10l.94 2.06.94-2.06 2.06-.94-2.06-.94-.94-2.06-.94 2.06-2.06.94z\"/><path d=\"M17.41 7.96l-1.37-1.37c-.4-.4-.92-.59-1.43-.59-.52 0-1.04.2-1.43.59L10.3 9.45l-7.72 7.72c-.78.78-.78 2.05 0 2.83L4 21.41c.39.39.9.59 1.41.59.51 0 1.02-.2 1.41-.59l7.78-7.78 2.81-2.81c.8-.78.8-2.07 0-2.86zM5.41 20L4 18.59l7.72-7.72 1.47 1.35L5.41 20z\"/>\n",
              "  </svg>\n",
              "      </button>\n",
              "      \n",
              "  <style>\n",
              "    .colab-df-container {\n",
              "      display:flex;\n",
              "      flex-wrap:wrap;\n",
              "      gap: 12px;\n",
              "    }\n",
              "\n",
              "    .colab-df-convert {\n",
              "      background-color: #E8F0FE;\n",
              "      border: none;\n",
              "      border-radius: 50%;\n",
              "      cursor: pointer;\n",
              "      display: none;\n",
              "      fill: #1967D2;\n",
              "      height: 32px;\n",
              "      padding: 0 0 0 0;\n",
              "      width: 32px;\n",
              "    }\n",
              "\n",
              "    .colab-df-convert:hover {\n",
              "      background-color: #E2EBFA;\n",
              "      box-shadow: 0px 1px 2px rgba(60, 64, 67, 0.3), 0px 1px 3px 1px rgba(60, 64, 67, 0.15);\n",
              "      fill: #174EA6;\n",
              "    }\n",
              "\n",
              "    [theme=dark] .colab-df-convert {\n",
              "      background-color: #3B4455;\n",
              "      fill: #D2E3FC;\n",
              "    }\n",
              "\n",
              "    [theme=dark] .colab-df-convert:hover {\n",
              "      background-color: #434B5C;\n",
              "      box-shadow: 0px 1px 3px 1px rgba(0, 0, 0, 0.15);\n",
              "      filter: drop-shadow(0px 1px 2px rgba(0, 0, 0, 0.3));\n",
              "      fill: #FFFFFF;\n",
              "    }\n",
              "  </style>\n",
              "\n",
              "      <script>\n",
              "        const buttonEl =\n",
              "          document.querySelector('#df-f23fded7-1f05-4e5a-99e4-7422596bef2d button.colab-df-convert');\n",
              "        buttonEl.style.display =\n",
              "          google.colab.kernel.accessAllowed ? 'block' : 'none';\n",
              "\n",
              "        async function convertToInteractive(key) {\n",
              "          const element = document.querySelector('#df-f23fded7-1f05-4e5a-99e4-7422596bef2d');\n",
              "          const dataTable =\n",
              "            await google.colab.kernel.invokeFunction('convertToInteractive',\n",
              "                                                     [key], {});\n",
              "          if (!dataTable) return;\n",
              "\n",
              "          const docLinkHtml = 'Like what you see? Visit the ' +\n",
              "            '<a target=\"_blank\" href=https://colab.research.google.com/notebooks/data_table.ipynb>data table notebook</a>'\n",
              "            + ' to learn more about interactive tables.';\n",
              "          element.innerHTML = '';\n",
              "          dataTable['output_type'] = 'display_data';\n",
              "          await google.colab.output.renderOutput(dataTable, element);\n",
              "          const docLink = document.createElement('div');\n",
              "          docLink.innerHTML = docLinkHtml;\n",
              "          element.appendChild(docLink);\n",
              "        }\n",
              "      </script>\n",
              "    </div>\n",
              "  </div>\n",
              "  "
            ]
          },
          "metadata": {},
          "execution_count": 5
        }
      ]
    },
    {
      "cell_type": "code",
      "source": [
        "'''from sklearn.preprocessing import LabelEncoder as LE\n",
        "coder = LE()\n",
        "df['Day']=coder.fit_transform(df['Day'])'''"
      ],
      "metadata": {
        "id": "lWNMPPayOMOv",
        "colab": {
          "base_uri": "https://localhost:8080/",
          "height": 35
        },
        "outputId": "ecfbd146-ef25-4b98-c757-cac928f643ed"
      },
      "execution_count": null,
      "outputs": [
        {
          "output_type": "execute_result",
          "data": {
            "text/plain": [
              "\"from sklearn.preprocessing import LabelEncoder as LE\\ncoder = LE()\\ndf['Day']=coder.fit_transform(df['Day'])\""
            ],
            "application/vnd.google.colaboratory.intrinsic+json": {
              "type": "string"
            }
          },
          "metadata": {},
          "execution_count": 6
        }
      ]
    },
    {
      "cell_type": "code",
      "source": [
        "'''df['Input']=total\n",
        "df'''"
      ],
      "metadata": {
        "colab": {
          "base_uri": "https://localhost:8080/",
          "height": 35
        },
        "id": "kMcq-YgkZFaG",
        "outputId": "9a888ad5-4d4a-4298-ba92-9802924cb061"
      },
      "execution_count": null,
      "outputs": [
        {
          "output_type": "execute_result",
          "data": {
            "text/plain": [
              "\"df['Input']=total\\ndf\""
            ],
            "application/vnd.google.colaboratory.intrinsic+json": {
              "type": "string"
            }
          },
          "metadata": {},
          "execution_count": 7
        }
      ]
    },
    {
      "cell_type": "code",
      "source": [
        "df.plot(x='Date',y='Retail Price\\n(RS/Qtl)',style='o',figsize=(20, 10))"
      ],
      "metadata": {
        "colab": {
          "base_uri": "https://localhost:8080/",
          "height": 621
        },
        "id": "DygXEskMZzUU",
        "outputId": "7fd973f6-e47e-47b9-cae2-e8ddc169a70c"
      },
      "execution_count": null,
      "outputs": [
        {
          "output_type": "execute_result",
          "data": {
            "text/plain": [
              "<matplotlib.axes._subplots.AxesSubplot at 0x7f5cd0a23d10>"
            ]
          },
          "metadata": {},
          "execution_count": 8
        },
        {
          "output_type": "display_data",
          "data": {
            "text/plain": [
              "<Figure size 1440x720 with 1 Axes>"
            ],
            "image/png": "[encoded data removed]"
          },
          "metadata": {
            "needs_background": "light"
          }
        }
      ]
    },
    {
      "cell_type": "code",
      "source": [
        "import matplotlib.pyplot as plt\n",
        "plt.scatter(df['Date'], df['Retail Price\\n(RS/Qtl)'])\n",
        "plt.show() # Depending on whether you use IPython"
      ],
      "metadata": {
        "colab": {
          "base_uri": "https://localhost:8080/",
          "height": 265
        },
        "id": "VyHO-ezHaPPV",
        "outputId": "bc544be3-9e72-4cb2-8f07-4171e8a457c8"
      },
      "execution_count": null,
      "outputs": [
        {
          "output_type": "display_data",
          "data": {
            "text/plain": [
              "<Figure size 432x288 with 1 Axes>"
            ],
            "image/png": "[encoded data removed]"
          },
          "metadata": {
            "needs_background": "light"
          }
        }
      ]
    },
    {
      "cell_type": "code",
      "source": [
        "series = pd.read_csv('/content/Chandigarh.csv', header=0, index_col=0)\n",
        "print(series.head())\n",
        "series.plot()"
      ],
      "metadata": {
        "colab": {
          "base_uri": "https://localhost:8080/",
          "height": 418
        },
        "id": "3_p-UlVBDpdp",
        "outputId": "34cb9835-6358-418d-a825-25ff0fc281df"
      },
      "execution_count": null,
      "outputs": [
        {
          "output_type": "stream",
          "name": "stdout",
          "text": [
            "            Retail Price\\n(RS/Qtl)\n",
            "Date                              \n",
            "02-01-2021                    4000\n",
            "04-01-2021                    5000\n",
            "05-01-2021                    4000\n",
            "06-01-2021                    4000\n",
            "07-01-2021                    4000\n"
          ]
        },
        {
          "output_type": "execute_result",
          "data": {
            "text/plain": [
              "<matplotlib.axes._subplots.AxesSubplot at 0x7f5cd025afd0>"
            ]
          },
          "metadata": {},
          "execution_count": 10
        },
        {
          "output_type": "display_data",
          "data": {
            "text/plain": [
              "<Figure size 432x288 with 1 Axes>"
            ],
            "image/png": "[encoded data removed]"
          },
          "metadata": {
            "needs_background": "light"
          }
        }
      ]
    },
    {
      "cell_type": "code",
      "source": [
        "from pandas.plotting import lag_plot\n",
        "series = pd.read_csv('/content/Chandigarh.csv', header=0, index_col=0)\n",
        "lag_plot(series)\n"
      ],
      "metadata": {
        "colab": {
          "base_uri": "https://localhost:8080/",
          "height": 297
        },
        "id": "c78NfS8MEGJl",
        "outputId": "a8ea232c-9d42-4f2b-89df-f256036e4f9c"
      },
      "execution_count": null,
      "outputs": [
        {
          "output_type": "execute_result",
          "data": {
            "text/plain": [
              "<matplotlib.axes._subplots.AxesSubplot at 0x7f5cd01d0710>"
            ]
          },
          "metadata": {},
          "execution_count": 11
        },
        {
          "output_type": "display_data",
          "data": {
            "text/plain": [
              "<Figure size 432x288 with 1 Axes>"
            ],
            "image/png": "[encoded data removed]"
          },
          "metadata": {
            "needs_background": "light"
          }
        }
      ]
    },
    {
      "cell_type": "code",
      "source": [
        "from pandas import concat\n",
        "series = pd.read_csv('/content/Chandigarh.csv', header=0, index_col=0)\n",
        "values = pd.DataFrame(series.values)\n",
        "dataframe = concat([values.shift(1), values], axis=1)\n",
        "dataframe.columns = ['t-1', 't']\n",
        "result = dataframe.corr()\n",
        "print(result)"
      ],
      "metadata": {
        "colab": {
          "base_uri": "https://localhost:8080/"
        },
        "id": "DFbRTBbOEe-K",
        "outputId": "c4b716e5-e50c-4b7b-d872-b0100570b37a"
      },
      "execution_count": null,
      "outputs": [
        {
          "output_type": "stream",
          "name": "stdout",
          "text": [
            "          t-1         t\n",
            "t-1  1.000000  0.830336\n",
            "t    0.830336  1.000000\n"
          ]
        }
      ]
    },
    {
      "cell_type": "code",
      "source": [
        "from statsmodels.graphics.tsaplots import plot_acf\n",
        "series = pd.read_csv('/content/Chandigarh.csv', header=0, index_col=0)\n",
        "plot_acf(series, lags=30)"
      ],
      "metadata": {
        "colab": {
          "base_uri": "https://localhost:8080/",
          "height": 545
        },
        "id": "rDQj2rhBE06F",
        "outputId": "909be6a6-0c20-4bd3-ec07-e31e2ec140cf"
      },
      "execution_count": null,
      "outputs": [
        {
          "output_type": "execute_result",
          "data": {
            "text/plain": [
              "<Figure size 432x288 with 1 Axes>"
            ],
            "image/png": "[encoded data removed]"
          },
          "metadata": {},
          "execution_count": 13
        },
        {
          "output_type": "display_data",
          "data": {
            "text/plain": [
              "<Figure size 432x288 with 1 Axes>"
            ],
            "image/png": "[encoded data removed]"
          },
          "metadata": {
            "needs_background": "light"
          }
        }
      ]
    },
    {
      "cell_type": "code",
      "source": [
        "pip install statsmodels --upgrade"
      ],
      "metadata": {
        "colab": {
          "base_uri": "https://localhost:8080/"
        },
        "id": "Kz8PRsE_GKPE",
        "outputId": "85f2516c-36d7-46d5-ecf9-dcef0393f70e"
      },
      "execution_count": null,
      "outputs": [
        {
          "output_type": "stream",
          "name": "stdout",
          "text": [
            "Requirement already satisfied: statsmodels in /usr/local/lib/python3.7/dist-packages (0.13.2)\n",
            "Requirement already satisfied: numpy>=1.17 in /usr/local/lib/python3.7/dist-packages (from statsmodels) (1.21.6)\n",
            "Requirement already satisfied: scipy>=1.3 in /usr/local/lib/python3.7/dist-packages (from statsmodels) (1.4.1)\n",
            "Requirement already satisfied: packaging>=21.3 in /usr/local/lib/python3.7/dist-packages (from statsmodels) (21.3)\n",
            "Requirement already satisfied: patsy>=0.5.2 in /usr/local/lib/python3.7/dist-packages (from statsmodels) (0.5.2)\n",
            "Requirement already satisfied: pandas>=0.25 in /usr/local/lib/python3.7/dist-packages (from statsmodels) (1.3.5)\n",
            "Requirement already satisfied: pyparsing!=3.0.5,>=2.0.2 in /usr/local/lib/python3.7/dist-packages (from packaging>=21.3->statsmodels) (3.0.8)\n",
            "Requirement already satisfied: python-dateutil>=2.7.3 in /usr/local/lib/python3.7/dist-packages (from pandas>=0.25->statsmodels) (2.8.2)\n",
            "Requirement already satisfied: pytz>=2017.3 in /usr/local/lib/python3.7/dist-packages (from pandas>=0.25->statsmodels) (2022.1)\n",
            "Requirement already satisfied: six in /usr/local/lib/python3.7/dist-packages (from patsy>=0.5.2->statsmodels) (1.15.0)\n"
          ]
        }
      ]
    },
    {
      "cell_type": "code",
      "source": [
        "from statsmodels.tsa.ar_model import AutoReg\n",
        "from sklearn.metrics import mean_squared_error\n",
        "from math import sqrt\n",
        "# load dataset\n",
        "series = pd.read_csv('/content/Chandigarh.csv', header=0, index_col=0, parse_dates=True, squeeze=True)\n",
        "# split dataset\n",
        "X = series.values\n",
        "train, test = X[0:len(X)-30], X[len(X)-30:]\n",
        "# train autoregression\n",
        "model = AutoReg(train, lags=1)\n",
        "model_fit = model.fit()\n",
        "print('Coefficients: %s' % model_fit.params)\n",
        "# make predictions\n",
        "predictions = model_fit.predict(start=len(train), end=len(train)+len(test)-1, dynamic=False)\n",
        "for i in range(len(predictions)):\n",
        "\tprint('predicted=%f, actual=%f' % (predictions[i], test[i]))\n",
        "rmse = sqrt(mean_squared_error(test, predictions))\n",
        "print('Test RMSE: %.3f' % rmse)\n",
        "# plot results\n",
        "plt.plot(test)\n",
        "plt.plot(predictions, color='red')\n",
        "plt.show()"
      ],
      "metadata": {
        "colab": {
          "base_uri": "https://localhost:8080/",
          "height": 821
        },
        "id": "-WCm9NmSFQEY",
        "outputId": "55b1d6a3-b4d7-48f1-d721-a605ce912351"
      },
      "execution_count": null,
      "outputs": [
        {
          "output_type": "stream",
          "name": "stdout",
          "text": [
            "Coefficients: [318.99093932   0.86378565]\n",
            "predicted=1182.776594, actual=1000.000000\n",
            "predicted=1340.656394, actual=1000.000000\n",
            "predicted=1477.030701, actual=3000.000000\n",
            "predicted=1594.828870, actual=1500.000000\n",
            "predicted=1696.581239, actual=1000.000000\n",
            "predicted=1784.473476, actual=1000.000000\n",
            "predicted=1860.393529, actual=1500.000000\n",
            "predicted=1925.972182, actual=1500.000000\n",
            "predicted=1982.618082, actual=1500.000000\n",
            "predicted=2031.547997, actual=1500.000000\n",
            "predicted=2073.812956, actual=1000.000000\n",
            "predicted=2110.320822, actual=1500.000000\n",
            "predicted=2141.855792, actual=1700.000000\n",
            "predicted=2169.095247, actual=1500.000000\n",
            "predicted=2192.624298, actual=1500.000000\n",
            "predicted=2212.948354, actual=2000.000000\n",
            "predicted=2230.503982, actual=1800.000000\n",
            "predicted=2245.668282, actual=2500.000000\n",
            "predicted=2258.766987, actual=2000.000000\n",
            "predicted=2270.081460, actual=1500.000000\n",
            "predicted=2279.854740, actual=2000.000000\n",
            "predicted=2288.296758, actual=2500.000000\n",
            "predicted=2295.588853, actual=2000.000000\n",
            "predicted=2301.887660, actual=2000.000000\n",
            "predicted=2307.328479, actual=2500.000000\n",
            "predicted=2312.028180, actual=2500.000000\n",
            "predicted=2316.087715, actual=2500.000000\n",
            "predicted=2319.594283, actual=2000.000000\n",
            "predicted=2322.623206, actual=3000.000000\n",
            "predicted=2325.239546, actual=3000.000000\n",
            "Test RMSE: 560.746\n"
          ]
        },
        {
          "output_type": "display_data",
          "data": {
            "text/plain": [
              "<Figure size 432x288 with 1 Axes>"
            ],
            "image/png": "[encoded data removed]"
          },
          "metadata": {
            "needs_background": "light"
          }
        }
      ]
    },
    {
      "cell_type": "code",
      "source": [
        "from statsmodels.tsa.ar_model import AutoReg\n",
        "from sklearn.metrics import mean_squared_error\n",
        "from math import sqrt\n",
        "# load dataset\n",
        "series = pd.read_csv('/content/Chandigarh.csv', header=0, index_col=0, parse_dates=True, squeeze=True)\n",
        "# split dataset\n",
        "X = series.values\n",
        "train, test = X[0:len(X)-30], X[len(X)-30:]\n",
        "# train autoregression\n",
        "model = AutoReg(train, lags=29)\n",
        "model_fit = model.fit()\n",
        "print('Coefficients: %s' % model_fit.params)\n",
        "# make predictions\n",
        "predictions = model_fit.predict(start=len(train), end=len(train)+len(test)-1, dynamic=False)\n",
        "for i in range(len(predictions)):\n",
        "\tprint('predicted=%f, actual=%f' % (predictions[i], test[i]))\n",
        "rmse = sqrt(mean_squared_error(test, predictions))\n",
        "print('Test RMSE: %.3f' % rmse)\n",
        "# plot results\n",
        "plt.plot(test)\n",
        "plt.plot(predictions, color='red')\n",
        "plt.show()"
      ],
      "metadata": {
        "id": "aCm8WksPLSlQ",
        "colab": {
          "base_uri": "https://localhost:8080/",
          "height": 942
        },
        "outputId": "d4d3bd57-744a-4bf8-f80d-b11e1d50d3fc"
      },
      "execution_count": null,
      "outputs": [
        {
          "output_type": "stream",
          "name": "stdout",
          "text": [
            "Coefficients: [ 9.87062065e+02  4.95420509e-01  1.60122184e-01  1.99240281e-01\n",
            " -4.34344223e-02  1.22759335e-02  8.43128732e-02  7.92944289e-02\n",
            " -1.74759449e-01  9.11204408e-02 -8.32810806e-02  9.45976064e-03\n",
            " -1.48849022e-01  1.44465068e-01 -1.58765529e-02 -8.11815730e-02\n",
            "  7.03856591e-02 -2.05712321e-02  9.71219708e-02 -9.56395900e-02\n",
            " -1.86526460e-01  3.14154202e-02 -6.04595685e-03 -1.54082744e-01\n",
            "  5.16636176e-02 -1.39570012e-01  1.04280441e-01 -1.45190685e-01\n",
            "  1.44722639e-01  1.04391431e-01]\n",
            "predicted=1450.456359, actual=1000.000000\n",
            "predicted=1496.040383, actual=1000.000000\n",
            "predicted=1350.906336, actual=3000.000000\n",
            "predicted=1579.838508, actual=1500.000000\n",
            "predicted=1725.304426, actual=1000.000000\n",
            "predicted=1826.441791, actual=1000.000000\n",
            "predicted=1947.666106, actual=1500.000000\n",
            "predicted=2230.671158, actual=1500.000000\n",
            "predicted=2169.328550, actual=1500.000000\n",
            "predicted=2530.651060, actual=1500.000000\n",
            "predicted=2757.846356, actual=1000.000000\n",
            "predicted=3170.623417, actual=1500.000000\n",
            "predicted=3304.819208, actual=1700.000000\n",
            "predicted=3326.191047, actual=1500.000000\n",
            "predicted=3820.000191, actual=1500.000000\n",
            "predicted=3742.275052, actual=2000.000000\n",
            "predicted=3947.470499, actual=1800.000000\n",
            "predicted=3954.637936, actual=2500.000000\n",
            "predicted=3931.828227, actual=2000.000000\n",
            "predicted=4019.507707, actual=1500.000000\n",
            "predicted=3850.235536, actual=2000.000000\n",
            "predicted=3760.033238, actual=2500.000000\n",
            "predicted=3859.038582, actual=2000.000000\n",
            "predicted=3551.549972, actual=2000.000000\n",
            "predicted=3580.238451, actual=2500.000000\n",
            "predicted=3456.236670, actual=2500.000000\n",
            "predicted=3376.776946, actual=2500.000000\n",
            "predicted=3244.674250, actual=2000.000000\n",
            "predicted=3033.253948, actual=3000.000000\n",
            "predicted=2872.615695, actual=3000.000000\n",
            "Test RMSE: 1401.621\n"
          ]
        },
        {
          "output_type": "display_data",
          "data": {
            "text/plain": [
              "<Figure size 432x288 with 1 Axes>"
            ],
            "image/png": "[encoded data removed]"
          },
          "metadata": {
            "needs_background": "light"
          }
        }
      ]
    },
    {
      "cell_type": "markdown",
      "source": [
        "ARIMA MODEL"
      ],
      "metadata": {
        "id": "L76D10xFvoK1"
      }
    },
    {
      "cell_type": "code",
      "source": [
        "!pip install pmdarima"
      ],
      "metadata": {
        "colab": {
          "base_uri": "https://localhost:8080/"
        },
        "id": "WJUcXVnmwITy",
        "outputId": "b4998b6e-2ae2-42b0-ecf3-53c51f0441f0"
      },
      "execution_count": null,
      "outputs": [
        {
          "output_type": "stream",
          "name": "stdout",
          "text": [
            "Collecting pmdarima\n",
            "  Downloading pmdarima-1.8.5-cp37-cp37m-manylinux_2_17_x86_64.manylinux2014_x86_64.manylinux_2_24_x86_64.whl (1.4 MB)\n",
            "\u001b[K     |████████████████████████████████| 1.4 MB 4.4 MB/s \n",
            "\u001b[?25hRequirement already satisfied: pandas>=0.19 in /usr/local/lib/python3.7/dist-packages (from pmdarima) (1.3.5)\n",
            "Requirement already satisfied: scikit-learn>=0.22 in /usr/local/lib/python3.7/dist-packages (from pmdarima) (1.0.2)\n",
            "Requirement already satisfied: setuptools!=50.0.0,>=38.6.0 in /usr/local/lib/python3.7/dist-packages (from pmdarima) (57.4.0)\n",
            "Requirement already satisfied: Cython!=0.29.18,>=0.29 in /usr/local/lib/python3.7/dist-packages (from pmdarima) (0.29.28)\n",
            "Requirement already satisfied: urllib3 in /usr/local/lib/python3.7/dist-packages (from pmdarima) (1.24.3)\n",
            "Requirement already satisfied: numpy>=1.19.3 in /usr/local/lib/python3.7/dist-packages (from pmdarima) (1.21.6)\n",
            "Requirement already satisfied: joblib>=0.11 in /usr/local/lib/python3.7/dist-packages (from pmdarima) (1.1.0)\n",
            "Requirement already satisfied: scipy>=1.3.2 in /usr/local/lib/python3.7/dist-packages (from pmdarima) (1.4.1)\n",
            "Requirement already satisfied: statsmodels!=0.12.0,>=0.11 in /usr/local/lib/python3.7/dist-packages (from pmdarima) (0.13.2)\n",
            "Requirement already satisfied: python-dateutil>=2.7.3 in /usr/local/lib/python3.7/dist-packages (from pandas>=0.19->pmdarima) (2.8.2)\n",
            "Requirement already satisfied: pytz>=2017.3 in /usr/local/lib/python3.7/dist-packages (from pandas>=0.19->pmdarima) (2022.1)\n",
            "Requirement already satisfied: six>=1.5 in /usr/local/lib/python3.7/dist-packages (from python-dateutil>=2.7.3->pandas>=0.19->pmdarima) (1.15.0)\n",
            "Requirement already satisfied: threadpoolctl>=2.0.0 in /usr/local/lib/python3.7/dist-packages (from scikit-learn>=0.22->pmdarima) (3.1.0)\n",
            "Requirement already satisfied: packaging>=21.3 in /usr/local/lib/python3.7/dist-packages (from statsmodels!=0.12.0,>=0.11->pmdarima) (21.3)\n",
            "Requirement already satisfied: patsy>=0.5.2 in /usr/local/lib/python3.7/dist-packages (from statsmodels!=0.12.0,>=0.11->pmdarima) (0.5.2)\n",
            "Requirement already satisfied: pyparsing!=3.0.5,>=2.0.2 in /usr/local/lib/python3.7/dist-packages (from packaging>=21.3->statsmodels!=0.12.0,>=0.11->pmdarima) (3.0.8)\n",
            "Installing collected packages: pmdarima\n",
            "Successfully installed pmdarima-1.8.5\n"
          ]
        }
      ]
    },
    {
      "cell_type": "code",
      "source": [
        "from pmdarima import auto_arima\n",
        "import warnings\n",
        "warnings.filterwarnings(\"ignore\")"
      ],
      "metadata": {
        "id": "I7-fDdpLvIH-"
      },
      "execution_count": null,
      "outputs": []
    },
    {
      "cell_type": "code",
      "source": [
        "n=len(df)\n",
        "train=df[0:n-30]\n",
        "test=df[n-30:n]"
      ],
      "metadata": {
        "id": "fBdGF5QXwdb1"
      },
      "execution_count": null,
      "outputs": []
    },
    {
      "cell_type": "code",
      "source": [
        "stepwise_fit=auto_arima(train['Retail Price\\n(RS/Qtl)'],trace=True,suppress_warnings=True)\n",
        "stepwise_fit.summary()"
      ],
      "metadata": {
        "colab": {
          "base_uri": "https://localhost:8080/",
          "height": 704
        },
        "id": "AbLug6VBvr6D",
        "outputId": "d643fae4-d420-4e66-c01c-c987b24a2d14"
      },
      "execution_count": null,
      "outputs": [
        {
          "output_type": "stream",
          "name": "stdout",
          "text": [
            "Performing stepwise search to minimize aic\n",
            " ARIMA(2,1,2)(0,0,0)[0] intercept   : AIC=1562.431, Time=0.28 sec\n",
            " ARIMA(0,1,0)(0,0,0)[0] intercept   : AIC=1568.420, Time=0.02 sec\n",
            " ARIMA(1,1,0)(0,0,0)[0] intercept   : AIC=1562.675, Time=0.14 sec\n",
            " ARIMA(0,1,1)(0,0,0)[0] intercept   : AIC=1559.220, Time=0.17 sec\n",
            " ARIMA(0,1,0)(0,0,0)[0]             : AIC=1567.060, Time=0.01 sec\n",
            " ARIMA(1,1,1)(0,0,0)[0] intercept   : AIC=1560.433, Time=0.10 sec\n",
            " ARIMA(0,1,2)(0,0,0)[0] intercept   : AIC=1560.204, Time=0.30 sec\n",
            " ARIMA(1,1,2)(0,0,0)[0] intercept   : AIC=1560.483, Time=0.19 sec\n",
            " ARIMA(0,1,1)(0,0,0)[0]             : AIC=1558.851, Time=0.04 sec\n",
            " ARIMA(1,1,1)(0,0,0)[0]             : AIC=1560.316, Time=0.07 sec\n",
            " ARIMA(0,1,2)(0,0,0)[0]             : AIC=1560.111, Time=0.06 sec\n",
            " ARIMA(1,1,0)(0,0,0)[0]             : AIC=1561.748, Time=0.03 sec\n",
            " ARIMA(1,1,2)(0,0,0)[0]             : AIC=1560.280, Time=0.13 sec\n",
            "\n",
            "Best model:  ARIMA(0,1,1)(0,0,0)[0]          \n",
            "Total fit time: 1.577 seconds\n"
          ]
        },
        {
          "output_type": "execute_result",
          "data": {
            "text/plain": [
              "<class 'statsmodels.iolib.summary.Summary'>\n",
              "\"\"\"\n",
              "                               SARIMAX Results                                \n",
              "==============================================================================\n",
              "Dep. Variable:                      y   No. Observations:                  108\n",
              "Model:               SARIMAX(0, 1, 1)   Log Likelihood                -777.425\n",
              "Date:                Fri, 29 Apr 2022   AIC                           1558.851\n",
              "Time:                        14:57:30   BIC                           1564.197\n",
              "Sample:                             0   HQIC                          1561.018\n",
              "                                - 108                                         \n",
              "Covariance Type:                  opg                                         \n",
              "==============================================================================\n",
              "                 coef    std err          z      P>|z|      [0.025      0.975]\n",
              "------------------------------------------------------------------------------\n",
              "ma.L1         -0.3592      0.087     -4.117      0.000      -0.530      -0.188\n",
              "sigma2      1.176e+05   1.39e+04      8.483      0.000    9.04e+04    1.45e+05\n",
              "===================================================================================\n",
              "Ljung-Box (L1) (Q):                   0.01   Jarque-Bera (JB):                 4.01\n",
              "Prob(Q):                              0.93   Prob(JB):                         0.13\n",
              "Heteroskedasticity (H):               0.63   Skew:                            -0.04\n",
              "Prob(H) (two-sided):                  0.16   Kurtosis:                         3.95\n",
              "===================================================================================\n",
              "\n",
              "Warnings:\n",
              "[1] Covariance matrix calculated using the outer product of gradients (complex-step).\n",
              "\"\"\""
            ],
            "text/html": [
              "<table class=\"simpletable\">\n",
              "<caption>SARIMAX Results</caption>\n",
              "<tr>\n",
              "  <th>Dep. Variable:</th>           <td>y</td>        <th>  No. Observations:  </th>    <td>108</td>  \n",
              "</tr>\n",
              "<tr>\n",
              "  <th>Model:</th>           <td>SARIMAX(0, 1, 1)</td> <th>  Log Likelihood     </th> <td>-777.425</td>\n",
              "</tr>\n",
              "<tr>\n",
              "  <th>Date:</th>            <td>Fri, 29 Apr 2022</td> <th>  AIC                </th> <td>1558.851</td>\n",
              "</tr>\n",
              "<tr>\n",
              "  <th>Time:</th>                <td>14:57:30</td>     <th>  BIC                </th> <td>1564.197</td>\n",
              "</tr>\n",
              "<tr>\n",
              "  <th>Sample:</th>                  <td>0</td>        <th>  HQIC               </th> <td>1561.018</td>\n",
              "</tr>\n",
              "<tr>\n",
              "  <th></th>                      <td> - 108</td>      <th>                     </th>     <td> </td>   \n",
              "</tr>\n",
              "<tr>\n",
              "  <th>Covariance Type:</th>        <td>opg</td>       <th>                     </th>     <td> </td>   \n",
              "</tr>\n",
              "</table>\n",
              "<table class=\"simpletable\">\n",
              "<tr>\n",
              "     <td></td>       <th>coef</th>     <th>std err</th>      <th>z</th>      <th>P>|z|</th>  <th>[0.025</th>    <th>0.975]</th>  \n",
              "</tr>\n",
              "<tr>\n",
              "  <th>ma.L1</th>  <td>   -0.3592</td> <td>    0.087</td> <td>   -4.117</td> <td> 0.000</td> <td>   -0.530</td> <td>   -0.188</td>\n",
              "</tr>\n",
              "<tr>\n",
              "  <th>sigma2</th> <td> 1.176e+05</td> <td> 1.39e+04</td> <td>    8.483</td> <td> 0.000</td> <td> 9.04e+04</td> <td> 1.45e+05</td>\n",
              "</tr>\n",
              "</table>\n",
              "<table class=\"simpletable\">\n",
              "<tr>\n",
              "  <th>Ljung-Box (L1) (Q):</th>     <td>0.01</td> <th>  Jarque-Bera (JB):  </th> <td>4.01</td> \n",
              "</tr>\n",
              "<tr>\n",
              "  <th>Prob(Q):</th>                <td>0.93</td> <th>  Prob(JB):          </th> <td>0.13</td> \n",
              "</tr>\n",
              "<tr>\n",
              "  <th>Heteroskedasticity (H):</th> <td>0.63</td> <th>  Skew:              </th> <td>-0.04</td>\n",
              "</tr>\n",
              "<tr>\n",
              "  <th>Prob(H) (two-sided):</th>    <td>0.16</td> <th>  Kurtosis:          </th> <td>3.95</td> \n",
              "</tr>\n",
              "</table><br/><br/>Warnings:<br/>[1] Covariance matrix calculated using the outer product of gradients (complex-step)."
            ]
          },
          "metadata": {},
          "execution_count": 20
        }
      ]
    },
    {
      "cell_type": "code",
      "source": [
        "from statsmodels.tsa.arima.model import ARIMA"
      ],
      "metadata": {
        "id": "StUg7WqPwP-K"
      },
      "execution_count": null,
      "outputs": []
    },
    {
      "cell_type": "code",
      "source": [
        "from statsmodels.tsa.stattools import adfuller\n",
        "from numpy import log\n",
        "result = adfuller(df['Retail Price\\n(RS/Qtl)'])\n",
        "print('ADF Statistic: %f' % result[0])\n",
        "print('p-value: %f' % result[1])"
      ],
      "metadata": {
        "colab": {
          "base_uri": "https://localhost:8080/"
        },
        "id": "6AF_VXdRDp2R",
        "outputId": "56760148-ba21-4fdd-8ad4-66216ac52dcf"
      },
      "execution_count": null,
      "outputs": [
        {
          "output_type": "stream",
          "name": "stdout",
          "text": [
            "ADF Statistic: -2.207439\n",
            "p-value: 0.203557\n"
          ]
        }
      ]
    },
    {
      "cell_type": "code",
      "source": [
        "from pmdarima.arima.utils import ndiffs  \n",
        "import pandas as pd \n",
        "\n",
        "adftest = ndiffs(df['Retail Price\\n(RS/Qtl)'], test = 'adf')  "
      ],
      "metadata": {
        "id": "MwrNqt5pQ-vT"
      },
      "execution_count": null,
      "outputs": []
    },
    {
      "cell_type": "code",
      "source": [
        "# KPSS Test  \n",
        "kpsstest = ndiffs(df['Retail Price\\n(RS/Qtl)'], test = 'kpss')  \n",
        "  \n",
        "# PP Test  \n",
        "pptest = ndiffs(df['Retail Price\\n(RS/Qtl)'], test = 'pp')  \n",
        "  \n",
        "print(\"ADF Test =\", adftest)  \n",
        "print(\"KPSS Test =\", kpsstest)  \n",
        "print(\"PP Test =\", pptest)  "
      ],
      "metadata": {
        "colab": {
          "base_uri": "https://localhost:8080/"
        },
        "id": "d3wpSgTwRM9l",
        "outputId": "1a5a8183-ef26-497b-c67e-a23695f099d4"
      },
      "execution_count": null,
      "outputs": [
        {
          "output_type": "stream",
          "name": "stdout",
          "text": [
            "ADF Test = 1\n",
            "KPSS Test = 1\n",
            "PP Test = 0\n"
          ]
        }
      ]
    },
    {
      "cell_type": "code",
      "source": [
        "import pandas\n",
        "from pandas.plotting import autocorrelation_plot\n",
        "from matplotlib import pyplot\n",
        "%matplotlib inline\n"
      ],
      "metadata": {
        "id": "Kj5Krb9mIWDy"
      },
      "execution_count": null,
      "outputs": []
    },
    {
      "cell_type": "code",
      "source": [
        "autocorrelation_plot(df['Retail Price\\n(RS/Qtl)'])\n",
        "pyplot.show()"
      ],
      "metadata": {
        "colab": {
          "base_uri": "https://localhost:8080/",
          "height": 283
        },
        "id": "mJS4xnVcI-QA",
        "outputId": "4f6cfb66-d868-44ba-a2c1-bd38f5e06f8b"
      },
      "execution_count": null,
      "outputs": [
        {
          "output_type": "display_data",
          "data": {
            "text/plain": [
              "<Figure size 432x288 with 1 Axes>"
            ],
            "image/png": "[encoded data removed]"
          },
          "metadata": {
            "needs_background": "light"
          }
        }
      ]
    },
    {
      "cell_type": "code",
      "source": [
        "from statsmodels.graphics.tsaplots import plot_pacf\n",
        "series = pd.read_csv('/content/Chandigarh.csv', header=0, index_col=0)\n",
        "plot_pacf(series, lags=30)"
      ],
      "metadata": {
        "colab": {
          "base_uri": "https://localhost:8080/",
          "height": 545
        },
        "id": "SqxX7fbfNpJk",
        "outputId": "2024f0c9-c5c6-4beb-d5d8-4051b351db5e"
      },
      "execution_count": null,
      "outputs": [
        {
          "output_type": "execute_result",
          "data": {
            "text/plain": [
              "<Figure size 432x288 with 1 Axes>"
            ],
            "image/png": "[encoded data removed]"
          },
          "metadata": {},
          "execution_count": 27
        },
        {
          "output_type": "display_data",
          "data": {
            "text/plain": [
              "<Figure size 432x288 with 1 Axes>"
            ],
            "image/png": "[encoded data removed]"
          },
          "metadata": {
            "needs_background": "light"
          }
        }
      ]
    },
    {
      "cell_type": "code",
      "source": [
        "from statsmodels.graphics.tsaplots import plot_acf\n",
        "series = pd.read_csv('/content/Chandigarh.csv', header=0, index_col=0)\n",
        "plot_acf(series, lags=30)"
      ],
      "metadata": {
        "colab": {
          "base_uri": "https://localhost:8080/",
          "height": 545
        },
        "id": "vtcQ4h6aNveu",
        "outputId": "91a401cf-a62f-4181-bf1a-402d6b8ad098"
      },
      "execution_count": null,
      "outputs": [
        {
          "output_type": "execute_result",
          "data": {
            "text/plain": [
              "<Figure size 432x288 with 1 Axes>"
            ],
            "image/png": "[encoded data removed]"
          },
          "metadata": {},
          "execution_count": 28
        },
        {
          "output_type": "display_data",
          "data": {
            "text/plain": [
              "<Figure size 432x288 with 1 Axes>"
            ],
            "image/png": "[encoded data removed]"
          },
          "metadata": {
            "needs_background": "light"
          }
        }
      ]
    },
    {
      "cell_type": "code",
      "source": [
        "!python -m pip install statsmodels "
      ],
      "metadata": {
        "colab": {
          "base_uri": "https://localhost:8080/"
        },
        "id": "V4krVNDlJueV",
        "outputId": "3ab881a0-55a6-4b13-ff13-e4d904eb1dc6"
      },
      "execution_count": null,
      "outputs": [
        {
          "output_type": "stream",
          "name": "stdout",
          "text": [
            "Requirement already satisfied: statsmodels in /usr/local/lib/python3.7/dist-packages (0.13.2)\n",
            "Requirement already satisfied: pandas>=0.25 in /usr/local/lib/python3.7/dist-packages (from statsmodels) (1.3.5)\n",
            "Requirement already satisfied: scipy>=1.3 in /usr/local/lib/python3.7/dist-packages (from statsmodels) (1.4.1)\n",
            "Requirement already satisfied: packaging>=21.3 in /usr/local/lib/python3.7/dist-packages (from statsmodels) (21.3)\n",
            "Requirement already satisfied: patsy>=0.5.2 in /usr/local/lib/python3.7/dist-packages (from statsmodels) (0.5.2)\n",
            "Requirement already satisfied: numpy>=1.17 in /usr/local/lib/python3.7/dist-packages (from statsmodels) (1.21.6)\n",
            "Requirement already satisfied: pyparsing!=3.0.5,>=2.0.2 in /usr/local/lib/python3.7/dist-packages (from packaging>=21.3->statsmodels) (3.0.8)\n",
            "Requirement already satisfied: pytz>=2017.3 in /usr/local/lib/python3.7/dist-packages (from pandas>=0.25->statsmodels) (2022.1)\n",
            "Requirement already satisfied: python-dateutil>=2.7.3 in /usr/local/lib/python3.7/dist-packages (from pandas>=0.25->statsmodels) (2.8.2)\n",
            "Requirement already satisfied: six in /usr/local/lib/python3.7/dist-packages (from patsy>=0.5.2->statsmodels) (1.15.0)\n"
          ]
        }
      ]
    },
    {
      "cell_type": "code",
      "source": [
        "model = ARIMA(train['Retail Price\\n(RS/Qtl)'],order=(1,0,1))\n",
        "model = model.fit()"
      ],
      "metadata": {
        "id": "IRfcmk7_w4cJ"
      },
      "execution_count": null,
      "outputs": []
    },
    {
      "cell_type": "code",
      "source": [
        "print(model.summary())"
      ],
      "metadata": {
        "colab": {
          "base_uri": "https://localhost:8080/"
        },
        "id": "bmqA3_w-Mwur",
        "outputId": "bfc6e135-58e5-4a70-a402-64010e49c4da"
      },
      "execution_count": null,
      "outputs": [
        {
          "output_type": "stream",
          "name": "stdout",
          "text": [
            "                                 SARIMAX Results                                 \n",
            "=================================================================================\n",
            "Dep. Variable:     Retail Price\n",
            "(RS/Qtl)   No. Observations:                  108\n",
            "Model:                    ARIMA(1, 0, 1)   Log Likelihood                -784.372\n",
            "Date:                   Fri, 29 Apr 2022   AIC                           1576.745\n",
            "Time:                           14:59:59   BIC                           1587.473\n",
            "Sample:                                0   HQIC                          1581.095\n",
            "                                   - 108                                         \n",
            "Covariance Type:                     opg                                         \n",
            "==============================================================================\n",
            "                 coef    std err          z      P>|z|      [0.025      0.975]\n",
            "------------------------------------------------------------------------------\n",
            "const       2533.4637    519.655      4.875      0.000    1514.958    3551.969\n",
            "ar.L1          0.9690      0.024     40.844      0.000       0.922       1.015\n",
            "ma.L1         -0.3398      0.097     -3.500      0.000      -0.530      -0.150\n",
            "sigma2      1.168e+05   1.38e+04      8.457      0.000    8.97e+04    1.44e+05\n",
            "===================================================================================\n",
            "Ljung-Box (L1) (Q):                   0.06   Jarque-Bera (JB):                 2.72\n",
            "Prob(Q):                              0.80   Prob(JB):                         0.26\n",
            "Heteroskedasticity (H):               0.64   Skew:                            -0.08\n",
            "Prob(H) (two-sided):                  0.19   Kurtosis:                         3.76\n",
            "===================================================================================\n",
            "\n",
            "Warnings:\n",
            "[1] Covariance matrix calculated using the outer product of gradients (complex-step).\n"
          ]
        }
      ]
    },
    {
      "cell_type": "code",
      "source": [
        "y_test=test['Retail Price\\n(RS/Qtl)']"
      ],
      "metadata": {
        "id": "ngW1pd8aw9Jb"
      },
      "execution_count": null,
      "outputs": []
    },
    {
      "cell_type": "code",
      "source": [
        "start=len(train)\n",
        "print(start)\n",
        "end = len(train)+len(test)-1\n",
        "print(end)\n",
        "pred=model.predict(start=start,end=end,type='levels')\n",
        "\n",
        "# pred.index=test['Date']"
      ],
      "metadata": {
        "colab": {
          "base_uri": "https://localhost:8080/"
        },
        "id": "gBjrmq2ExAf0",
        "outputId": "487aeffb-1a40-4f51-e8fd-14c3fe17701c"
      },
      "execution_count": null,
      "outputs": [
        {
          "output_type": "stream",
          "name": "stdout",
          "text": [
            "108\n",
            "137\n"
          ]
        }
      ]
    },
    {
      "cell_type": "code",
      "source": [
        "pred"
      ],
      "metadata": {
        "colab": {
          "base_uri": "https://localhost:8080/"
        },
        "id": "rScO-RBvxCrd",
        "outputId": "e65d6b8e-e178-4862-fdb6-d13daed7c3dc"
      },
      "execution_count": null,
      "outputs": [
        {
          "output_type": "execute_result",
          "data": {
            "text/plain": [
              "108    1335.066631\n",
              "109    1372.264529\n",
              "110    1408.307815\n",
              "111    1443.232328\n",
              "112    1477.072794\n",
              "113    1509.862862\n",
              "114    1541.635136\n",
              "115    1572.421207\n",
              "116    1602.251688\n",
              "117    1631.156239\n",
              "118    1659.163602\n",
              "119    1686.301624\n",
              "120    1712.597290\n",
              "121    1738.076746\n",
              "122    1762.765327\n",
              "123    1786.687582\n",
              "124    1809.867296\n",
              "125    1832.327520\n",
              "126    1854.090584\n",
              "127    1875.178129\n",
              "128    1895.611123\n",
              "129    1915.409883\n",
              "130    1934.594095\n",
              "131    1953.182834\n",
              "132    1971.194585\n",
              "133    1988.647256\n",
              "134    2005.558201\n",
              "135    2021.944235\n",
              "136    2037.821652\n",
              "137    2053.206238\n",
              "Name: predicted_mean, dtype: float64"
            ]
          },
          "metadata": {},
          "execution_count": 84
        }
      ]
    },
    {
      "cell_type": "code",
      "source": [
        "y_test"
      ],
      "metadata": {
        "colab": {
          "base_uri": "https://localhost:8080/"
        },
        "id": "l8bnt008xlkj",
        "outputId": "9d6f64e6-d7ee-407d-e262-846081a04501"
      },
      "execution_count": null,
      "outputs": [
        {
          "output_type": "execute_result",
          "data": {
            "text/plain": [
              "108    1000\n",
              "109    1000\n",
              "110    3000\n",
              "111    1500\n",
              "112    1000\n",
              "113    1000\n",
              "114    1500\n",
              "115    1500\n",
              "116    1500\n",
              "117    1500\n",
              "118    1000\n",
              "119    1500\n",
              "120    1700\n",
              "121    1500\n",
              "122    1500\n",
              "123    2000\n",
              "124    1800\n",
              "125    2500\n",
              "126    2000\n",
              "127    1500\n",
              "128    2000\n",
              "129    2500\n",
              "130    2000\n",
              "131    2000\n",
              "132    2500\n",
              "133    2500\n",
              "134    2500\n",
              "135    2000\n",
              "136    3000\n",
              "137    3000\n",
              "Name: Retail Price\\n(RS/Qtl), dtype: int64"
            ]
          },
          "metadata": {},
          "execution_count": 85
        }
      ]
    },
    {
      "cell_type": "code",
      "source": [
        "y_test[136]"
      ],
      "metadata": {
        "colab": {
          "base_uri": "https://localhost:8080/"
        },
        "id": "r5Q06x7xMKce",
        "outputId": "7fe39b89-b616-4059-c8ad-f8f6365fcdb2"
      },
      "execution_count": null,
      "outputs": [
        {
          "output_type": "execute_result",
          "data": {
            "text/plain": [
              "3000"
            ]
          },
          "metadata": {},
          "execution_count": 86
        }
      ]
    },
    {
      "cell_type": "code",
      "source": [
        "pred[108]"
      ],
      "metadata": {
        "colab": {
          "base_uri": "https://localhost:8080/"
        },
        "id": "5tH9XrfoMS6R",
        "outputId": "5f9aca04-dd31-4bbf-9347-2edc4d2bee50"
      },
      "execution_count": null,
      "outputs": [
        {
          "output_type": "execute_result",
          "data": {
            "text/plain": [
              "1335.066630728899"
            ]
          },
          "metadata": {},
          "execution_count": 87
        }
      ]
    },
    {
      "cell_type": "code",
      "source": [
        "from sklearn.metrics import mean_squared_error\n",
        "from math import sqrt\n",
        "for i in range(len(pred)):\n",
        "\tprint('Predicted={}, Actual vALUES={}'.format(pred[i+108], y_test[i+108]))\n",
        "rmse = sqrt(mean_squared_error(test['Retail Price\\n(RS/Qtl)'], pred))\n",
        "print('Test RMSE: %.3f' % rmse)\n",
        "# plot results\n",
        "plt.plot(test['Retail Price\\n(RS/Qtl)'])\n",
        "#plt.plot(pred, color='red')\n",
        "plt.show()"
      ],
      "metadata": {
        "colab": {
          "base_uri": "https://localhost:8080/",
          "height": 803
        },
        "id": "eJ3Qm0AsxH27",
        "outputId": "21bf4643-1554-4931-e7d0-1ab27552c95e"
      },
      "execution_count": null,
      "outputs": [
        {
          "output_type": "stream",
          "name": "stdout",
          "text": [
            "Predicted=1335.066630728899, Actual vALUES=1000\n",
            "Predicted=1372.2645287469309, Actual vALUES=1000\n",
            "Predicted=1408.307814809841, Actual vALUES=3000\n",
            "Predicted=1443.2323277375074, Actual vALUES=1500\n",
            "Predicted=1477.072793923244, Actual vALUES=1000\n",
            "Predicted=1509.8628618631983, Actual vALUES=1000\n",
            "Predicted=1541.6351356139653, Actual vALUES=1500\n",
            "Predicted=1572.4212072116902, Actual vALUES=1500\n",
            "Predicted=1602.251688084887, Actual vALUES=1500\n",
            "Predicted=1631.1562394922166, Actual vALUES=1500\n",
            "Predicted=1659.1636020154824, Actual vALUES=1000\n",
            "Predicted=1686.3016241371715, Actual vALUES=1500\n",
            "Predicted=1712.597289930961, Actual vALUES=1700\n",
            "Predicted=1738.0767458927144, Actual vALUES=1500\n",
            "Predicted=1762.7653269386547, Actual vALUES=1500\n",
            "Predicted=1786.6875815965607, Actual vALUES=2000\n",
            "Predicted=1809.8672964150355, Actual vALUES=1800\n",
            "Predicted=1832.3275196151199, Actual vALUES=2500\n",
            "Predicted=1854.0905840077642, Actual vALUES=2000\n",
            "Predicted=1875.1781291999514, Actual vALUES=1500\n",
            "Predicted=1895.6111231115456, Actual vALUES=2000\n",
            "Predicted=1915.4098828242663, Actual vALUES=2500\n",
            "Predicted=1934.594094783514, Actual vALUES=2000\n",
            "Predicted=1953.1828343731404, Actual vALUES=2000\n",
            "Predicted=1971.19458488262, Actual vALUES=2500\n",
            "Predicted=1988.6472558854875, Actual vALUES=2500\n",
            "Predicted=2005.5582010473158, Actual vALUES=2500\n",
            "Predicted=2021.9442353809357, Actual vALUES=2000\n",
            "Predicted=2037.8216519660618, Actual vALUES=3000\n",
            "Predicted=2053.206238149945, Actual vALUES=3000\n",
            "Test RMSE: 500.855\n"
          ]
        },
        {
          "output_type": "display_data",
          "data": {
            "text/plain": [
              "<Figure size 432x288 with 1 Axes>"
            ],
            "image/png": "[encoded data removed]"
          },
          "metadata": {
            "needs_background": "light"
          }
        }
      ]
    },
    {
      "cell_type": "code",
      "source": [
        "pyplot.plot(y_test)\n",
        "pyplot.plot(pred, color='red')\n",
        "pyplot.show()"
      ],
      "metadata": {
        "colab": {
          "base_uri": "https://localhost:8080/",
          "height": 265
        },
        "id": "Mu_3UsN0xRbv",
        "outputId": "22b24b19-9a23-451b-922d-79dae2bdecde"
      },
      "execution_count": null,
      "outputs": [
        {
          "output_type": "display_data",
          "data": {
            "text/plain": [
              "<Figure size 432x288 with 1 Axes>"
            ],
            "image/png": "[encoded data removed]"
          },
          "metadata": {
            "needs_background": "light"
          }
        }
      ]
    },
    {
      "cell_type": "code",
      "source": [
        ""
      ],
      "metadata": {
        "id": "FB1DBpoYx0Fb"
      },
      "execution_count": null,
      "outputs": []
    }
  ]
}