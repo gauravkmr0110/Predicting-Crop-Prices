{
  "cells": [
    {
      "cell_type": "code",
      "execution_count": null,
      "metadata": {
        "id": "FYaQYt8SVsXc"
      },
      "outputs": [],
      "source": [
        "!pip install selenium\n",
        "from selenium import webdriver\n",
        "from selenium.webdriver.chrome.options import Options\n",
        "from selenium.webdriver.common.by import By\n",
        "from selenium.webdriver.common.keys import Keys\n",
        "from selenium.webdriver.support.ui import WebDriverWait\n",
        "from selenium.webdriver.support.expected_conditions import presence_of_all_elements_located\n",
        "import time \n",
        "import sys\n",
        "import calendar\n",
        "from selenium import webdriver\n",
        "from selenium.webdriver.chrome.service import Service\n",
        "driver_path=Service(\"C:/Users/kumar/Desktop/Scrapping/chromedriver.exe\")"
      ]
    },
    {
      "cell_type": "code",
      "execution_count": null,
      "metadata": {
        "id": "FSab1EqeVsXm"
      },
      "outputs": [],
      "source": [
        "results=[]"
      ]
    },
    {
      "cell_type": "code",
      "execution_count": null,
      "metadata": {
        "id": "jgEnhNxWVsXo"
      },
      "outputs": [],
      "source": [
        "\n",
        "year ='2021'\n",
        "dates=['01','02','03','04','05','06','07','08','09','10','11','12']\n",
        "2','13','14','15','16','17','18','19','20','21','22','23','24','25','26','27','28','29','30','31']\n",
        "months=['00','01','02','03','04','05','06','07','08','09','10','11','12']\n",
        "week=['Sunday','Monday','Tuesday','Wednesday','Thursday','Friday','Saturday']\n",
        "cities=['DELHI','MUMBAI','KOLKATA','CHENNAI','CHANDIGARH', 'PATNA','BANGALURU','LUCKNOW','JAIPUR','RANCHI','HYDERABAD','BHOPAL']\n",
        "curr_day=5\n",
        "x=0\n",
        "\n",
        "driver_path=Service(\"C://Users/kumar/Desktop/Scrapping/chromedriver.exe\")\n",
        "\n",
        "browser= webdriver.Chrome(service=driver_path)\n",
        "browser.get(\"http://www.nhb.gov.in/OnlineClient/MISDailyReport.aspx\")\n",
        "\n",
        "for c in cities:\n",
        "\n",
        "    for i in range(1,7):\n",
        "        days=0\n",
        "        if(i==2):\n",
        "            days = 28\n",
        "        elif(i==1 or i==3 or i==5 or i==7 or i==8 or i==10 or i==12):\n",
        "            days = 31\n",
        "        else:\n",
        "            days = 30\n",
        "        \n",
        "        for j in range(1,days):\n",
        "            browser= webdriver.Chrome(service=driver_path)\n",
        "            browser.get(\"http://www.nhb.gov.in/OnlineClient/MISDailyReport.aspx\")\n",
        "\n",
        "            cat= browser.find_element(By.NAME, \"ctl00$ContentPlaceHolder1$drpCategoryName\")\n",
        "            cat.send_keys('VEGETABLES')\n",
        "            time.sleep(2)\n",
        "            crop=browser.find_element(By.ID,\"ctl00_ContentPlaceHolder1_drpCropName\")\n",
        "            crop.send_keys(\"TOMATO\")\n",
        "            time.sleep(2)\n",
        "            city=browser.find_element(By.NAME,\"ctl00$ContentPlaceHolder1$LsboxCenterList\")\n",
        "            city.send_keys(c)\n",
        "            time.sleep(2)\n",
        "            curr_date=dates[j]+'/'+months[i]+'/2021'\n",
        "            curr_day=(curr_day+x)%7\n",
        "            x=x+1\n",
        "            date=browser.find_element(By.NAME,\"ctl00$ContentPlaceHolder1$txtdate\")\n",
        "            date.send_keys(curr_date)\n",
        "            browser.find_element(By.NAME,\"ctl00$ContentPlaceHolder1$btnSearch\").click()\n",
        "            time.sleep(2)\n",
        "        \n",
        "        \n",
        "            try:\n",
        "                error = browser.find_element(By.ID,\"ctl00_ContentPlaceHolder1_lblMessageError\")\n",
        "                results.append([curr_date,'NA','NA','NA','NA','NA',c,week[curr_day]])\n",
        "                browser.find_element(By.NAME,\"ctl00$ContentPlaceHolder1$btnCancel\").click()\n",
        "                time.sleep(1)\n",
        "                browser.close()\n",
        "            except:\n",
        "                minprice=browser.find_element(By.ID,\"ctl00_ContentPlaceHolder1_GridViewSearchMISDetails_ctl02_txtminprice\")\n",
        "                maxprice=browser.find_element(By.ID,\"ctl00_ContentPlaceHolder1_GridViewSearchMISDetails_ctl02_txtmaxprice\")\n",
        "                modelprice=browser.find_element(By.ID,\"ctl00_ContentPlaceHolder1_GridViewSearchMISDetails_ctl02_txtmodelprice\")\n",
        "                arrival=browser.find_element(By.ID,\"ctl00_ContentPlaceHolder1_GridViewSearchMISDetails_ctl02_txtarrialQTY\")\n",
        "                rtlprice=browser.find_element(By.ID,\"ctl00_ContentPlaceHolder1_GridViewSearchMISDetails_ctl02_txtretailprice\")\n",
        "\n",
        "                results.append([curr_date,minprice.text,maxprice.text,modelprice.text,arrival.text,rtlprice.text,c,week[curr_day]])\n",
        "\n",
        "                browser.find_element(By.NAME,\"ctl00$ContentPlaceHolder1$btnCancel\").click()\n",
        "                time.sleep(1)\n",
        "                browser.close()\n",
        "        #print(results)\n",
        "        \n",
        "    "
      ]
    },
    {
      "cell_type": "code",
      "execution_count": null,
      "metadata": {
        "id": "L2cF_YW2VsXs",
        "outputId": "2a9ddba2-0b5a-4850-fe9e-428c711ea8bf",
        "collapsed": true
      },
      "outputs": [
        {
          "name": "stdout",
          "output_type": "stream",
          "text": [
            "[['02/01/2021', '2250', '2600', '2350', '45', '4000', 'CHANDIGARH', 'Friday'], ['03/01/2021', 'NA', 'NA', 'NA', 'NA', 'NA', 'CHANDIGARH', 'Saturday'], ['04/01/2021', '3200', '3600', '3450', '45', '5000', 'CHANDIGARH', 'Monday'], ['05/01/2021', '2400', '2800', '2550', '50', '4000', 'CHANDIGARH', 'Thursday'], ['06/01/2021', '2000', '2500', '2350', '40', '4000', 'CHANDIGARH', 'Monday'], ['07/01/2021', '2200', '2800', '2500', '35', '4000', 'CHANDIGARH', 'Saturday'], ['08/01/2021', '2300', '2750', '2600', '45', '4000', 'CHANDIGARH', 'Friday'], ['09/01/2021', '2250', '3000', '2600', '50', '4000', 'CHANDIGARH', 'Friday'], ['10/01/2021', 'NA', 'NA', 'NA', 'NA', 'NA', 'CHANDIGARH', 'Saturday'], ['11/01/2021', '2000', '2500', '2200', '60', '3000', 'CHANDIGARH', 'Monday'], ['12/01/2021', '2150', '2600', '2400', '50', '3000', 'CHANDIGARH', 'Thursday'], ['13/01/2021', '1800', '2500', '2300', '60', '3000', 'CHANDIGARH', 'Monday'], ['14/01/2021', '1750', '2300', '2000', '70', '3000', 'CHANDIGARH', 'Saturday'], ['15/01/2021', '2000', '2400', '2200', '50', '3000', 'CHANDIGARH', 'Friday'], ['16/01/2021', '2100', '2500', '2300', '45', '3000', 'CHANDIGARH', 'Friday'], ['17/01/2021', 'NA', 'NA', 'NA', 'NA', 'NA', 'CHANDIGARH', 'Saturday'], ['18/01/2021', '2050', '2500', '2300', '60', '3000', 'CHANDIGARH', 'Monday'], ['19/01/2021', '2000', '2400', '2200', '50', '3000', 'CHANDIGARH', 'Thursday'], ['20/01/2021', '1500', '2000', '1800', '70', '3000', 'CHANDIGARH', 'Monday'], ['21/01/2021', '1600', '2100', '1900', '60', '3000', 'CHANDIGARH', 'Saturday'], ['22/01/2021', '1200', '1500', '1350', '80', '2000', 'CHANDIGARH', 'Friday'], ['23/01/2021', '1250', '1600', '1400', '70', '2000', 'CHANDIGARH', 'Friday'], ['24/01/2021', 'NA', 'NA', 'NA', 'NA', 'NA', 'CHANDIGARH', 'Saturday'], ['25/01/2021', '1300', '1500', '1400', '65', '2500', 'CHANDIGARH', 'Monday'], ['26/01/2021', 'NA', 'NA', 'NA', 'NA', 'NA', 'CHANDIGARH', 'Thursday'], ['27/01/2021', '1200', '1600', '1350', '80', '2000', 'CHANDIGARH', 'Monday'], ['28/01/2021', '1300', '1700', '1600', '70', '2500', 'CHANDIGARH', 'Saturday'], ['29/01/2021', '1500', '1800', '1650', '60', '3000', 'CHANDIGARH', 'Friday'], ['30/01/2021', '1650', '2000', '1850', '50', '3000', 'CHANDIGARH', 'Friday'], ['31/01/2021', 'NA', 'NA', 'NA', 'NA', 'NA', 'CHANDIGARH', 'Saturday'], ['02/02/2021', '1200', '1500', '1350', '50', '2500', 'CHANDIGARH', 'Monday'], ['03/02/2021', '1150', '1400', '1250', '40', '2000', 'CHANDIGARH', 'Thursday'], ['04/02/2021', '1200', '1400', '1300', '35', '2500', 'CHANDIGARH', 'Monday'], ['05/02/2021', '1100', '1300', '1200', '40', '2400', 'CHANDIGARH', 'Saturday'], ['06/02/2021', '1250', '1350', '1300', '40', '3000', 'CHANDIGARH', 'Friday'], ['07/02/2021', 'NA', 'NA', 'NA', 'NA', 'NA', 'CHANDIGARH', 'Friday'], ['08/02/2021', '1400', '1500', '1450', '32', '3000', 'CHANDIGARH', 'Saturday'], ['09/02/2021', '1375', '1750', '1563', '30', '3000', 'CHANDIGARH', 'Monday'], ['10/02/2021', '1300', '1500', '1400', '35', '2500', 'CHANDIGARH', 'Thursday'], ['11/02/2021', '1600', '1700', '1650', '30', '3000', 'CHANDIGARH', 'Monday'], ['12/02/2021', '1500', '1800', '1650', '32', '3000', 'CHANDIGARH', 'Saturday'], ['13/02/2021', '1800', '2000', '1900', '27', '3000', 'CHANDIGARH', 'Friday'], ['14/02/2021', 'NA', 'NA', 'NA', 'NA', 'NA', 'CHANDIGARH', 'Friday'], ['15/02/2021', '1750', '2100', '1900', '40', '3000', 'CHANDIGARH', 'Saturday'], ['16/02/2021', '1800', '2200', '2000', '35', '3000', 'CHANDIGARH', 'Monday'], ['17/02/2021', '1750', '2100', '1850', '45', '3000', 'CHANDIGARH', 'Thursday'], ['18/02/2021', '1500', '2000', '1800', '60', '2500', 'CHANDIGARH', 'Monday'], ['19/02/2021', '1600', '1950', '1700', '80', '2500', 'CHANDIGARH', 'Saturday'], ['20/02/2021', '1350', '1800', '1650', '75', '2500', 'CHANDIGARH', 'Friday'], ['21/02/2021', 'NA', 'NA', 'NA', 'NA', 'NA', 'CHANDIGARH', 'Friday'], ['22/02/2021', '1400', '1850', '1700', '70', '2500', 'CHANDIGARH', 'Saturday'], ['23/02/2021', '1350', '1800', '1650', '60', '2500', 'CHANDIGARH', 'Monday'], ['24/02/2021', '1400', '1850', '1600', '70', '2500', 'CHANDIGARH', 'Thursday'], ['25/02/2021', '1350', '1750', '1500', '85', '2500', 'CHANDIGARH', 'Monday'], ['26/02/2021', '1200', '1460', '1320', '80', '2700', 'CHANDIGARH', 'Saturday'], ['27/02/2021', '1300', '1500', '1400', '75', '2500', 'CHANDIGARH', 'Friday'], ['28/02/2021', 'NA', 'NA', 'NA', 'NA', 'NA', 'CHANDIGARH', 'Friday'], ['02/03/2021', '1200', '1500', '1350', '70', '2000', 'CHANDIGARH', 'Saturday'], ['03/03/2021', '1250', '1600', '1400', '80', '2000', 'CHANDIGARH', 'Monday'], ['04/03/2021', '1300', '1550', '1450', '75', '2000', 'CHANDIGARH', 'Thursday'], ['05/03/2021', '1100', '1180', '1150', '70', '1800', 'CHANDIGARH', 'Monday'], ['06/03/2021', '1150', '1250', '1200', '80', '2000', 'CHANDIGARH', 'Saturday'], ['07/03/2021', 'NA', 'NA', 'NA', 'NA', 'NA', 'CHANDIGARH', 'Friday'], ['08/03/2021', '1200', '1400', '1300', '70', '2000', 'CHANDIGARH', 'Friday'], ['09/03/2021', '1150', '1500', '1250', '80', '2000', 'CHANDIGARH', 'Saturday'], ['10/03/2021', '1200', '1400', '1300', '75', '2500', 'CHANDIGARH', 'Monday'], ['11/03/2021', '1300', '1500', '1400', '80', '2000', 'CHANDIGARH', 'Thursday'], ['12/03/2021', '1150', '1450', '1250', '70', '2000', 'CHANDIGARH', 'Monday'], ['13/03/2021', '1200', '1500', '1350', '85', '2000', 'CHANDIGARH', 'Saturday'], ['14/03/2021', 'NA', 'NA', 'NA', 'NA', 'NA', 'CHANDIGARH', 'Friday'], ['15/03/2021', '1150', '1450', '1200', '75', '2000', 'CHANDIGARH', 'Friday'], ['16/03/2021', '1000', '1360', '1180', '60', '1800', 'CHANDIGARH', 'Saturday'], ['17/03/2021', '1000', '1200', '1100', '65', '2000', 'CHANDIGARH', 'Monday'], ['18/03/2021', '880', '1000', '960', '55', '2500', 'CHANDIGARH', 'Thursday'], ['19/03/2021', '760', '900', '850', '60', '1800', 'CHANDIGARH', 'Monday'], ['20/03/2021', '800', '900', '840', '50', '2000', 'CHANDIGARH', 'Saturday'], ['21/03/2021', 'NA', 'NA', 'NA', 'NA', 'NA', 'CHANDIGARH', 'Friday'], ['22/03/2021', '1000', '1350', '1200', '60', '2000', 'CHANDIGARH', 'Friday'], ['23/03/2021', '1150', '1500', '1300', '70', '2000', 'CHANDIGARH', 'Saturday'], ['24/03/2021', '1200', '1550', '1400', '80', '2000', 'CHANDIGARH', 'Monday'], ['25/03/2021', '1500', '1800', '1650', '70', '2500', 'CHANDIGARH', 'Thursday'], ['26/03/2021', '1300', '1600', '1450', '80', '2000', 'CHANDIGARH', 'Monday'], ['27/03/2021', '1200', '1500', '1360', '65', '2500', 'CHANDIGARH', 'Saturday'], ['28/03/2021', 'NA', 'NA', 'NA', 'NA', 'NA', 'CHANDIGARH', 'Friday'], ['29/03/2021', 'NA', 'NA', 'NA', 'NA', 'NA', 'CHANDIGARH', 'Friday'], ['30/03/2021', '1400', '1600', '1500', '60', '3000', 'CHANDIGARH', 'Saturday'], ['31/03/2021', '1500', '1800', '1650', '50', '2500', 'CHANDIGARH', 'Monday'], ['02/04/2021', 'NA', 'NA', 'NA', 'NA', 'NA', 'CHANDIGARH', 'Thursday'], ['03/04/2021', '1300', '1700', '1500', '40', '3000', 'CHANDIGARH', 'Monday'], ['04/04/2021', 'NA', 'NA', 'NA', 'NA', 'NA', 'CHANDIGARH', 'Saturday'], ['05/04/2021', '1500', '2000', '1750', '35', '3000', 'CHANDIGARH', 'Friday'], ['06/04/2021', '1450', '1800', '1650', '45', '3000', 'CHANDIGARH', 'Friday'], ['07/04/2021', '1200', '1550', '1400', '60', '2500', 'CHANDIGARH', 'Saturday'], ['08/04/2021', '1350', '1700', '1600', '45', '3000', 'CHANDIGARH', 'Monday'], ['09/04/2021', '1400', '1800', '1550', '50', '3000', 'CHANDIGARH', 'Thursday'], ['10/04/2021', '1550', '1850', '1600', '60', '3000', 'CHANDIGARH', 'Monday'], ['11/04/2021', 'NA', 'NA', 'NA', 'NA', 'NA', 'CHANDIGARH', 'Saturday'], ['12/04/2021', '1600', '2000', '1800', '50', '3000', 'CHANDIGARH', 'Friday'], ['13/04/2021', '1200', '1800', '1600', '160', '3000', 'CHANDIGARH', 'Friday'], ['14/04/2021', 'NA', 'NA', 'NA', 'NA', 'NA', 'CHANDIGARH', 'Saturday'], ['15/04/2021', '1100', '1300', '1250', '130', '2500', 'CHANDIGARH', 'Monday'], ['16/04/2021', '1200', '1500', '1400', '90', '2500', 'CHANDIGARH', 'Thursday'], ['17/04/2021', '1500', '2000', '1800', '50', '3000', 'CHANDIGARH', 'Monday'], ['18/04/2021', 'NA', 'NA', 'NA', 'NA', 'NA', 'CHANDIGARH', 'Saturday'], ['19/04/2021', '1600', '2100', '1850', '45', '3000', 'CHANDIGARH', 'Friday'], ['20/04/2021', '1700', '2000', '1900', '60', '3000', 'CHANDIGARH', 'Friday'], ['21/04/2021', 'NA', 'NA', 'NA', 'NA', 'NA', 'CHANDIGARH', 'Saturday'], ['22/04/2021', '1800', '2100', '2000', '40', '3000', 'CHANDIGARH', 'Monday'], ['23/04/2021', '1600', '2000', '1800', '50', '3000', 'CHANDIGARH', 'Thursday'], ['24/04/2021', '1500', '1800', '1650', '52', '2800', 'CHANDIGARH', 'Monday'], ['25/04/2021', 'NA', 'NA', 'NA', 'NA', 'NA', 'CHANDIGARH', 'Saturday'], ['26/04/2021', '1600', '1800', '1700', '50', '3000', 'CHANDIGARH', 'Friday'], ['27/04/2021', '1600', '2000', '1800', '50', '3000', 'CHANDIGARH', 'Friday'], ['28/04/2021', '1500', '1800', '1650', '50', '2800', 'CHANDIGARH', 'Saturday'], ['29/04/2021', '1400', '1600', '1500', '60', '2500', 'CHANDIGARH', 'Monday'], ['30/04/2021', '1500', '1600', '1550', '70', '2000', 'CHANDIGARH', 'Thursday'], ['02/05/2021', 'NA', 'NA', 'NA', 'NA', 'NA', 'CHANDIGARH', 'Monday'], ['03/05/2021', '1150', '1450', '1300', '65', '2000', 'CHANDIGARH', 'Saturday'], ['04/05/2021', '1000', '1500', '1250', '70', '2000', 'CHANDIGARH', 'Friday'], ['05/05/2021', '1100', '1450', '1300', '80', '2000', 'CHANDIGARH', 'Friday'], ['06/05/2021', '850', '1100', '1000', '110', '1500', 'CHANDIGARH', 'Saturday'], ['07/05/2021', '500', '700', '600', '120', '1500', 'CHANDIGARH', 'Monday'], ['08/05/2021', 'NA', 'NA', 'NA', 'NA', 'NA', 'CHANDIGARH', 'Thursday'], ['09/05/2021', 'NA', 'NA', 'NA', 'NA', 'NA', 'CHANDIGARH', 'Monday'], ['10/05/2021', '450', '650', '550', '90', '1000', 'CHANDIGARH', 'Saturday'], ['11/05/2021', '400', '600', '500', '110', '1000', 'CHANDIGARH', 'Friday'], ['12/05/2021', '600', '1000', '920', '90', '1500', 'CHANDIGARH', 'Friday'], ['13/05/2021', '300', '500', '400', '120', '1000', 'CHANDIGARH', 'Saturday'], ['14/05/2021', 'NA', 'NA', 'NA', 'NA', 'NA', 'CHANDIGARH', 'Monday'], ['15/05/2021', '350', '550', '450', '100', '1000', 'CHANDIGARH', 'Thursday'], ['16/05/2021', 'NA', 'NA', 'NA', 'NA', 'NA', 'CHANDIGARH', 'Monday'], ['17/05/2021', '400', '600', '500', '115', '1500', 'CHANDIGARH', 'Saturday'], ['18/05/2021', '500', '700', '600', '95', '1500', 'CHANDIGARH', 'Friday'], ['19/05/2021', '650', '900', '750', '110', '2000', 'CHANDIGARH', 'Friday'], ['20/05/2021', '300', '500', '400', '140', '1000', 'CHANDIGARH', 'Saturday'], ['21/05/2021', '350', '550', '450', '110', '1000', 'CHANDIGARH', 'Monday'], ['22/05/2021', '450', '600', '520', '90', '1000', 'CHANDIGARH', 'Thursday'], ['23/05/2021', '1600', '2100', '1900', '45', '3000', 'CHANDIGARH', 'Monday'], ['24/05/2021', '600', '700', '660', '80', '1500', 'CHANDIGARH', 'Saturday'], ['25/05/2021', '600', '700', '650', '95', '1000', 'CHANDIGARH', 'Friday'], ['26/05/2021', 'NA', 'NA', 'NA', 'NA', 'NA', 'CHANDIGARH', 'Friday'], ['27/05/2021', '450', '600', '550', '110', '1000', 'CHANDIGARH', 'Saturday'], ['28/05/2021', '700', '800', '760', '90', '1500', 'CHANDIGARH', 'Monday'], ['29/05/2021', '800', '900', '850', '85', '1500', 'CHANDIGARH', 'Thursday'], ['30/05/2021', 'NA', 'NA', 'NA', 'NA', 'NA', 'CHANDIGARH', 'Monday'], ['31/05/2021', '700', '800', '750', '95', '1500', 'CHANDIGARH', 'Saturday'], ['02/06/2021', '700', '950', '850', '80', '1500', 'CHANDIGARH', 'Friday'], ['03/06/2021', '600', '750', '650', '95', '1000', 'CHANDIGARH', 'Friday'], ['04/06/2021', '500', '700', '600', '110', '10000', 'CHANDIGARH', 'Saturday'], ['05/06/2021', '700', '900', '860', '85', '1500', 'CHANDIGARH', 'Monday'], ['06/06/2021', 'NA', 'NA', 'NA', 'NA', 'NA', 'CHANDIGARH', 'Thursday'], ['07/06/2021', '800', '1000', '900', '80', '1700', 'CHANDIGARH', 'Monday'], ['08/06/2021', '700', '800', '750', '90', '1500', 'CHANDIGARH', 'Saturday'], ['09/06/2021', '800', '900', '850', '80', '1500', 'CHANDIGARH', 'Friday'], ['10/06/2021', '850', '1000', '960', '70', '2000', 'CHANDIGARH', 'Friday'], ['11/06/2021', '900', '1100', '980', '65', '1800', 'CHANDIGARH', 'Saturday'], ['12/06/2021', '1100', '1400', '1250', '65', '2500', 'CHANDIGARH', 'Monday'], ['13/06/2021', 'NA', 'NA', 'NA', 'NA', 'NA', 'CHANDIGARH', 'Thursday'], ['14/06/2021', '1000', '1200', '1100', '60', '2000', 'CHANDIGARH', 'Monday'], ['15/06/2021', '800', '1000', '880', '55', '1500', 'CHANDIGARH', 'Saturday'], ['16/06/2021', 'NA', 'NA', 'NA', 'NA', 'NA', 'CHANDIGARH', 'Friday'], ['17/06/2021', '1200', '1500', '1350', '80', '2000', 'CHANDIGARH', 'Friday'], ['18/06/2021', '1300', '1700', '1500', '60', '2500', 'CHANDIGARH', 'Saturday'], ['19/06/2021', '1000', '1200', '1100', '70', '2000', 'CHANDIGARH', 'Monday'], ['20/06/2021', 'NA', 'NA', 'NA', 'NA', 'NA', 'CHANDIGARH', 'Thursday'], ['21/06/2021', '1200', '1500', '1300', '80', '2000', 'CHANDIGARH', 'Monday'], ['22/06/2021', '1250', '1600', '1500', '70', '2500', 'CHANDIGARH', 'Saturday'], ['23/06/2021', '1600', '1850', '1650', '60', '2500', 'CHANDIGARH', 'Friday'], ['24/06/2021', '1500', '1800', '1700', '70', '2500', 'CHANDIGARH', 'Friday'], ['25/06/2021', '1200', '1600', '1450', '85', '2000', 'CHANDIGARH', 'Saturday'], ['26/06/2021', '1400', '1800', '1560', '70', '3000', 'CHANDIGARH', 'Monday'], ['27/06/2021', 'NA', 'NA', 'NA', 'NA', 'NA', 'CHANDIGARH', 'Thursday'], ['28/06/2021', 'NA', 'NA', 'NA', 'NA', 'NA', 'CHANDIGARH', 'Monday'], ['29/06/2021', '1600', '2000', '1750', '65', '3000', 'CHANDIGARH', 'Saturday'], ['30/06/2021', 'NA', 'NA', 'NA', 'NA', 'NA', 'CHANDIGARH', 'Friday']]\n"
          ]
        }
      ],
      "source": [
        "print(results)"
      ]
    },
    {
      "cell_type": "code",
      "execution_count": null,
      "metadata": {
        "id": "bEOQKh1IVsXt"
      },
      "outputs": [],
      "source": [
        "import pandas as pd \n",
        "\n",
        "import numpy as np"
      ]
    },
    {
      "cell_type": "code",
      "execution_count": null,
      "metadata": {
        "id": "PBuz1fjcVsXv"
      },
      "outputs": [],
      "source": [
        "df = pd.DataFrame(results,columns=['Date','Min Price\\n(RS/Qtl)', 'Max Price\\n(RS/Qtl)', 'Model Price\\n(RS/Qtl)','Arrival\\n(MT.)','Retail Price\\n(RS/Qtl)','City','Day'])"
      ]
    },
    {
      "cell_type": "code",
      "execution_count": null,
      "metadata": {
        "id": "itfY1Y5aVsXw"
      },
      "outputs": [],
      "source": [
        "df"
      ]
    },
    {
      "cell_type": "code",
      "execution_count": null,
      "metadata": {
        "id": "A01eRWA_VsXy"
      },
      "outputs": [],
      "source": [
        "df.to_csv(\"Tomato.csv\",index=False,columns=['Date','Min Price\\n(RS/Qtl)', 'Max Price\\n(RS/Qtl)', 'Model Price\\n(RS/Qtl)','Arrival\\n(MT.)','Retail Price\\n(RS/Qtl)','City','Day'])"
      ]
    },
    {
      "cell_type": "code",
      "execution_count": null,
      "metadata": {
        "id": "NuLl8tGJVsXz"
      },
      "outputs": [],
      "source": [
        "col=df.columns"
      ]
    },
    {
      "cell_type": "code",
      "execution_count": null,
      "metadata": {
        "id": "HCATb_SrVsX1"
      },
      "outputs": [],
      "source": [
        "df.to_csv('Tomato.csv', index = False)"
      ]
    },
    {
      "cell_type": "code",
      "execution_count": null,
      "metadata": {
        "id": "HlMO0UvlVsX3"
      },
      "outputs": [],
      "source": [
        ""
      ]
    },
    {
      "cell_type": "code",
      "execution_count": null,
      "metadata": {
        "id": "geXwNv5-VsX3"
      },
      "outputs": [],
      "source": [
        ""
      ]
    }
  ],
  "metadata": {
    "kernelspec": {
      "display_name": "Python 3 (ipykernel)",
      "language": "python",
      "name": "python3"
    },
    "language_info": {
      "codemirror_mode": {
        "name": "ipython",
        "version": 3
      },
      "file_extension": ".py",
      "mimetype": "text/x-python",
      "name": "python",
      "nbconvert_exporter": "python",
      "pygments_lexer": "ipython3",
      "version": "3.9.7"
    },
    "colab": {
      "name": "Data_Scrapping.ipynb",
      "provenance": []
    }
  },
  "nbformat": 4,
  "nbformat_minor": 0
}