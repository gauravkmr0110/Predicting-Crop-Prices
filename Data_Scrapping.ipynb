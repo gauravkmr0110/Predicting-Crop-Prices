{
  "cells": [
    {
      "cell_type": "code",
      "execution_count": null,
      "metadata": {
        "id": "FYaQYt8SVsXc"
      },
      "outputs": [],
      "source": [
        "!pip install selenium\n",
        "from selenium import webdriver\n",
        "from selenium.webdriver.chrome.options import Options\n",
        "from selenium.webdriver.common.by import By\n",
        "from selenium.webdriver.common.keys import Keys\n",
        "from selenium.webdriver.support.ui import WebDriverWait\n",
        "from selenium.webdriver.support.expected_conditions import presence_of_all_elements_located\n",
        "import time \n",
        "import sys\n",
        "import calendar\n",
        "from selenium import webdriver\n",
        "from selenium.webdriver.chrome.service import Service\n",
        "driver_path=Service(\"C:/Users/kumar/Desktop/Scrapping/chromedriver.exe\")"
      ]
    },
    {
      "cell_type": "code",
      "execution_count": null,
      "metadata": {
        "id": "FSab1EqeVsXm"
      },
      "outputs": [],
      "source": [
        "results=[]"
      ]
    },
    {
      "cell_type": "code",
      "execution_count": null,
      "metadata": {
        "id": "jgEnhNxWVsXo"
      },
      "outputs": [],
      "source": [
        "\n",
        "year ='2021'\n",
        "dates=['01','02','03','04','05','06','07','08','09','10','11','12']\n",
        "2','13','14','15','16','17','18','19','20','21','22','23','24','25','26','27','28','29','30','31']\n",
        "months=['00','01','02','03','04','05','06','07','08','09','10','11','12']\n",
        "week=['Sunday','Monday','Tuesday','Wednesday','Thursday','Friday','Saturday']\n",
        "cities=['DELHI','MUMBAI','KOLKATA','CHENNAI','CHANDIGARH', 'PATNA','BANGALURU','LUCKNOW','JAIPUR','RANCHI','HYDERABAD','BHOPAL']\n",
        "curr_day=5\n",
        "x=0\n",
        "\n",
        "driver_path=Service(\"C://Users/kumar/Desktop/Scrapping/chromedriver.exe\")\n",
        "\n",
        "browser= webdriver.Chrome(service=driver_path)\n",
        "browser.get(\"http://www.nhb.gov.in/OnlineClient/MISDailyReport.aspx\")\n",
        "\n",
        "for c in cities:\n",
        "\n",
        "    for i in range(1,7):\n",
        "        days=0\n",
        "        if(i==2):\n",
        "            days = 28\n",
        "        elif(i==1 or i==3 or i==5 or i==7 or i==8 or i==10 or i==12):\n",
        "            days = 31\n",
        "        else:\n",
        "            days = 30\n",
        "        \n",
        "        for j in range(1,days):\n",
        "            browser= webdriver.Chrome(service=driver_path)\n",
        "            browser.get(\"http://www.nhb.gov.in/OnlineClient/MISDailyReport.aspx\")\n",
        "\n",
        "            cat= browser.find_element(By.NAME, \"ctl00$ContentPlaceHolder1$drpCategoryName\")\n",
        "            cat.send_keys('VEGETABLES')\n",
        "            time.sleep(2)\n",
        "            crop=browser.find_element(By.ID,\"ctl00_ContentPlaceHolder1_drpCropName\")\n",
        "            crop.send_keys(\"TOMATO\")\n",
        "            time.sleep(2)\n",
        "            city=browser.find_element(By.NAME,\"ctl00$ContentPlaceHolder1$LsboxCenterList\")\n",
        "            city.send_keys(c)\n",
        "            time.sleep(2)\n",
        "            curr_date=dates[j]+'/'+months[i]+'/2021'\n",
        "            curr_day=(curr_day+x)%7\n",
        "            x=x+1\n",
        "            date=browser.find_element(By.NAME,\"ctl00$ContentPlaceHolder1$txtdate\")\n",
        "            date.send_keys(curr_date)\n",
        "            browser.find_element(By.NAME,\"ctl00$ContentPlaceHolder1$btnSearch\").click()\n",
        "            time.sleep(2)\n",
        "        \n",
        "        \n",
        "            try:\n",
        "                error = browser.find_element(By.ID,\"ctl00_ContentPlaceHolder1_lblMessageError\")\n",
        "                results.append([curr_date,'NA','NA','NA','NA','NA',c,week[curr_day]])\n",
        "                browser.find_element(By.NAME,\"ctl00$ContentPlaceHolder1$btnCancel\").click()\n",
        "                time.sleep(1)\n",
        "                browser.close()\n",
        "            except:\n",
        "                minprice=browser.find_element(By.ID,\"ctl00_ContentPlaceHolder1_GridViewSearchMISDetails_ctl02_txtminprice\")\n",
        "                maxprice=browser.find_element(By.ID,\"ctl00_ContentPlaceHolder1_GridViewSearchMISDetails_ctl02_txtmaxprice\")\n",
        "                modelprice=browser.find_element(By.ID,\"ctl00_ContentPlaceHolder1_GridViewSearchMISDetails_ctl02_txtmodelprice\")\n",
        "                arrival=browser.find_element(By.ID,\"ctl00_ContentPlaceHolder1_GridViewSearchMISDetails_ctl02_txtarrialQTY\")\n",
        "                rtlprice=browser.find_element(By.ID,\"ctl00_ContentPlaceHolder1_GridViewSearchMISDetails_ctl02_txtretailprice\")\n",
        "\n",
        "                results.append([curr_date,minprice.text,maxprice.text,modelprice.text,arrival.text,rtlprice.text,c,week[curr_day]])\n",
        "\n",
        "                browser.find_element(By.NAME,\"ctl00$ContentPlaceHolder1$btnCancel\").click()\n",
        "                time.sleep(1)\n",
        "                browser.close()\n",
        "        #print(results)\n",
        "        \n",
        "    "
      ]
    },
    {
      "cell_type": "code",
      "execution_count": null,
      "metadata": {
        "id": "L2cF_YW2VsXs"
      },
      "outputs": [],
      "source": [
        "print(results)"
      ]
    },
    {
      "cell_type": "code",
      "execution_count": null,
      "metadata": {
        "id": "bEOQKh1IVsXt"
      },
      "outputs": [],
      "source": [
        "import pandas as pd \n",
        "\n",
        "import numpy as np"
      ]
    },
    {
      "cell_type": "code",
      "execution_count": null,
      "metadata": {
        "id": "PBuz1fjcVsXv"
      },
      "outputs": [],
      "source": [
        "df = pd.DataFrame(results,columns=['Date','Min Price\\n(RS/Qtl)', 'Max Price\\n(RS/Qtl)', 'Model Price\\n(RS/Qtl)','Arrival\\n(MT.)','Retail Price\\n(RS/Qtl)','City','Day'])"
      ]
    },
    {
      "cell_type": "code",
      "execution_count": null,
      "metadata": {
        "id": "itfY1Y5aVsXw"
      },
      "outputs": [],
      "source": [
        "df"
      ]
    },
    {
      "cell_type": "code",
      "execution_count": null,
      "metadata": {
        "id": "A01eRWA_VsXy"
      },
      "outputs": [],
      "source": [
        "df.to_csv(\"Tomato.csv\",index=False,columns=['Date','Min Price\\n(RS/Qtl)', 'Max Price\\n(RS/Qtl)', 'Model Price\\n(RS/Qtl)','Arrival\\n(MT.)','Retail Price\\n(RS/Qtl)','City','Day'])"
      ]
    },
    {
      "cell_type": "code",
      "execution_count": null,
      "metadata": {
        "id": "NuLl8tGJVsXz"
      },
      "outputs": [],
      "source": [
        "col=df.columns"
      ]
    },
    {
      "cell_type": "code",
      "execution_count": null,
      "metadata": {
        "id": "HCATb_SrVsX1"
      },
      "outputs": [],
      "source": [
        "df.to_csv('Tomato.csv', index = False)"
      ]
    },
    {
      "cell_type": "code",
      "execution_count": null,
      "metadata": {
        "id": "HlMO0UvlVsX3"
      },
      "outputs": [],
      "source": [
        ""
      ]
    },
    {
      "cell_type": "code",
      "execution_count": null,
      "metadata": {
        "id": "geXwNv5-VsX3"
      },
      "outputs": [],
      "source": [
        ""
      ]
    }
  ],
  "metadata": {
    "kernelspec": {
      "display_name": "Python 3 (ipykernel)",
      "language": "python",
      "name": "python3"
    },
    "language_info": {
      "codemirror_mode": {
        "name": "ipython",
        "version": 3
      },
      "file_extension": ".py",
      "mimetype": "text/x-python",
      "name": "python",
      "nbconvert_exporter": "python",
      "pygments_lexer": "ipython3",
      "version": "3.9.7"
    },
    "colab": {
      "name": "Data_Scrapping.ipynb",
      "provenance": []
    }
  },
  "nbformat": 4,
  "nbformat_minor": 0
}